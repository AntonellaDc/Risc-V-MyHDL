{
 "cells": [
  {
   "cell_type": "code",
   "execution_count": 81,
   "metadata": {},
   "outputs": [],
   "source": [
    "import matplotlib.pyplot as plt\n",
    "import numpy as np"
   ]
  },
  {
   "cell_type": "code",
   "execution_count": 47,
   "metadata": {},
   "outputs": [],
   "source": [
    "file_rtl = open('../syn/stat.txt')\n",
    "file_rtl_ag = open('../syn/stat_ag.txt')"
   ]
  },
  {
   "cell_type": "code",
   "execution_count": 48,
   "metadata": {},
   "outputs": [],
   "source": [
    "lines1 = file_rtl.readlines()\n",
    "lines2 = file_rtl_ag.readlines()"
   ]
  },
  {
   "cell_type": "code",
   "execution_count": 73,
   "metadata": {},
   "outputs": [],
   "source": [
    "stat_rtl = []\n",
    "for i in lines1[5:-1]:\n",
    "    splitted = i.replace('\\n','').replace('Number of ','').replace(':','').split()\n",
    "    stat_rtl.append(splitted[-2::])"
   ]
  },
  {
   "cell_type": "code",
   "execution_count": 74,
   "metadata": {},
   "outputs": [],
   "source": [
    "stat_rtl_ag = []\n",
    "for i in lines2[5:-1]:\n",
    "    splitted = i.replace('\\n','').replace('Number of ','').split()\n",
    "    stat_rtl_ag.append(splitted[-2::])"
   ]
  },
  {
   "cell_type": "code",
   "execution_count": 107,
   "metadata": {},
   "outputs": [
    {
     "data": {
      "text/plain": [
       "[['wires', '1141'],\n",
       " ['bits', '1268'],\n",
       " ['wires', '5'],\n",
       " ['bits', '132'],\n",
       " ['memories', '0'],\n",
       " ['bits', '0'],\n",
       " ['processes', '0'],\n",
       " ['cells', '1168'],\n",
       " ['$_AND_', '118'],\n",
       " ['$_AOI3_', '129'],\n",
       " ['$_AOI4_', '32'],\n",
       " ['$_MUX_', '321'],\n",
       " ['$_NAND_', '93'],\n",
       " ['$_NOR_', '37'],\n",
       " ['$_NOT_', '121'],\n",
       " ['$_OAI3_', '145'],\n",
       " ['$_OAI4_', '2'],\n",
       " ['$_OR_', '86'],\n",
       " ['$_XNOR_', '24'],\n",
       " ['$_XOR_', '60']]"
      ]
     },
     "execution_count": 107,
     "metadata": {},
     "output_type": "execute_result"
    }
   ],
   "source": [
    "stat_rtl"
   ]
  },
  {
   "cell_type": "code",
   "execution_count": 108,
   "metadata": {},
   "outputs": [
    {
     "data": {
      "text/plain": [
       "[['wires:', '1155'],\n",
       " ['bits:', '1251'],\n",
       " ['wires:', '4'],\n",
       " ['bits:', '100'],\n",
       " ['memories:', '0'],\n",
       " ['bits:', '0'],\n",
       " ['processes:', '0'],\n",
       " ['cells:', '1183'],\n",
       " ['$_AND_', '135'],\n",
       " ['$_AOI3_', '124'],\n",
       " ['$_AOI4_', '32'],\n",
       " ['$_MUX_', '320'],\n",
       " ['$_NAND_', '79'],\n",
       " ['$_NOR_', '49'],\n",
       " ['$_NOT_', '125'],\n",
       " ['$_OAI3_', '143'],\n",
       " ['$_OAI4_', '1'],\n",
       " ['$_OR_', '81'],\n",
       " ['$_XNOR_', '32'],\n",
       " ['$_XOR_', '62']]"
      ]
     },
     "execution_count": 108,
     "metadata": {},
     "output_type": "execute_result"
    }
   ],
   "source": [
    "stat_rtl_ag"
   ]
  },
  {
   "cell_type": "code",
   "execution_count": 75,
   "metadata": {},
   "outputs": [],
   "source": [
    "x = []\n",
    "y = []\n",
    "y1 = []\n",
    "\n",
    "for i in stat_rtl:\n",
    "    x.append(i[0])\n",
    "    y.append(int(i[1]))\n",
    "\n",
    "for i in stat_rtl_ag:\n",
    "    y1.append(int(i[1]))"
   ]
  },
  {
   "cell_type": "code",
   "execution_count": 106,
   "metadata": {},
   "outputs": [
    {
     "data": {
      "image/png": "[encoded data removed]",
      "text/plain": [
       "<Figure size 432x288 with 1 Axes>"
      ]
     },
     "metadata": {
      "needs_background": "light"
     },
     "output_type": "display_data"
    }
   ],
   "source": [
    "fig = plt.figure()\n",
    "ax = fig.add_axes([0,0,1,1])\n",
    "X = np.arange(len(x))\n",
    "ax.bar(X-0.25,y,width = 0.5, label='RTL Original')\n",
    "ax.bar(X+0.25,y1,width = 0.5, label='R')\n",
    "plt.xticks(rotation=75)\n",
    "labels = [item.get_text() for item in ax.get_xticklabels()]\n",
    "labels = x\n",
    "ax.set_xticklabels(labels)\n",
    "plt.xticks(X)\n",
    "plt.show()"
   ]
  },
  {
   "cell_type": "code",
   "execution_count": null,
   "metadata": {},
   "outputs": [],
   "source": []
  }
 ],
 "metadata": {
  "kernelspec": {
   "display_name": "Python 2",
   "language": "python",
   "name": "python2"
  },
  "language_info": {
   "codemirror_mode": {
    "name": "ipython",
    "version": 2
   },
   "file_extension": ".py",
   "mimetype": "text/x-python",
   "name": "python",
   "nbconvert_exporter": "python",
   "pygments_lexer": "ipython2",
   "version": "2.7.16"
  }
 },
 "nbformat": 4,
 "nbformat_minor": 2
}
